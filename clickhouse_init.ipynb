{
 "cells": [
  {
   "cell_type": "code",
   "execution_count": 1,
   "metadata": {},
   "outputs": [],
   "source": [
    "import clickhouse_connect\n",
    "import os\n",
    "import pandas as pd\n",
    "from sqlalchemy import create_engine\n"
   ]
  },
  {
   "cell_type": "code",
   "execution_count": 2,
   "metadata": {},
   "outputs": [],
   "source": [
    "clickhouse_host = os.getenv('CLICKHOUSE_HOST')\n",
    "clickhouse_port = os.getenv('CLICKHOUSE_PORT')\n",
    "clickhouse_username = os.getenv('CLICKHOUSE_USERNAME')\n",
    "clickhouse_password = os.getenv('CLICKHOUSE_PASSWORD')\n",
    "postgre_uri = os.getenv('POSTGRE_URI')\n",
    "create_table_query = \"\"\"CREATE TABLE bank_marketing\n",
    "(   id int NOT NULL,\n",
    "    age integer NOT NULL,\n",
    "    job character varying(50),\n",
    "    marital character varying(50),\n",
    "    education character varying(50),\n",
    "    \"default\" boolean,\n",
    "    balance integer,\n",
    "    housing boolean,\n",
    "    loan boolean,\n",
    "    contact character varying(50),\n",
    "    day integer,\n",
    "    month character varying(50),\n",
    "    duration integer,\n",
    "    campaign integer,\n",
    "    pdays integer,\n",
    "    previous integer,\n",
    "    poutcome character varying(50),\n",
    "    deposit boolean\n",
    ")\n",
    "ENGINE = MergeTree\n",
    "PRIMARY KEY (id)\"\"\"\n",
    "select_df_query = 'SELECT * FROM homebase.bank_marketing'\n",
    "dropped_columns = ['created_at', 'updated_at']"
   ]
  },
  {
   "cell_type": "code",
   "execution_count": 3,
   "metadata": {},
   "outputs": [],
   "source": [
    "client = clickhouse_connect.get_client(host=clickhouse_host, port=clickhouse_port, username=clickhouse_username, password=clickhouse_password)"
   ]
  },
  {
   "cell_type": "code",
   "execution_count": 4,
   "metadata": {},
   "outputs": [
    {
     "data": {
      "text/plain": [
       "<clickhouse_connect.driver.summary.QuerySummary at 0x7fc6e1315bb0>"
      ]
     },
     "execution_count": 4,
     "metadata": {},
     "output_type": "execute_result"
    }
   ],
   "source": [
    "client.command(create_table_query)"
   ]
  },
  {
   "cell_type": "code",
   "execution_count": 5,
   "metadata": {},
   "outputs": [],
   "source": [
    "def pandas_execute_sql_postgre(uri, query):\n",
    "    try:\n",
    "        alchemyEngine = create_engine(uri, pool_recycle=3600)\n",
    "        dbConnection = alchemyEngine.connect()\n",
    "        dataFrame = pd.read_sql(query, dbConnection)\n",
    "        dataFrame\n",
    "        pd.set_option('display.expand_frame_repr', False)\n",
    "        dbConnection.close()\n",
    "        return dataFrame\n",
    "    except Exception as e:\n",
    "        print(e)\n",
    "        return None\n",
    "    finally:\n",
    "        None"
   ]
  },
  {
   "cell_type": "code",
   "execution_count": 6,
   "metadata": {},
   "outputs": [],
   "source": [
    "df = pandas_execute_sql_postgre(postgre_uri, select_df_query)"
   ]
  },
  {
   "cell_type": "code",
   "execution_count": 7,
   "metadata": {},
   "outputs": [],
   "source": [
    "df = df.drop(columns=dropped_columns)"
   ]
  },
  {
   "cell_type": "code",
   "execution_count": 8,
   "metadata": {},
   "outputs": [
    {
     "data": {
      "text/plain": [
       "<clickhouse_connect.driver.summary.QuerySummary at 0x7fc6e1315c10>"
      ]
     },
     "execution_count": 8,
     "metadata": {},
     "output_type": "execute_result"
    }
   ],
   "source": [
    "client.insert('bank_marketing', df)\n"
   ]
  }
 ],
 "metadata": {
  "kernelspec": {
   "display_name": "Python 3.9.7 ('base')",
   "language": "python",
   "name": "python3"
  },
  "language_info": {
   "codemirror_mode": {
    "name": "ipython",
    "version": 3
   },
   "file_extension": ".py",
   "mimetype": "text/x-python",
   "name": "python",
   "nbconvert_exporter": "python",
   "pygments_lexer": "ipython3",
   "version": "3.9.7"
  },
  "orig_nbformat": 4,
  "vscode": {
   "interpreter": {
    "hash": "6fc72fe23883caa5a88f8ee8e380e1b2ffa4d60f94251238002c46c2694eb8ed"
   }
  }
 },
 "nbformat": 4,
 "nbformat_minor": 2
}
